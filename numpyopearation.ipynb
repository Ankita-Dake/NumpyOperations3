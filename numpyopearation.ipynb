{
 "cells": [
  {
   "cell_type": "code",
   "execution_count": 1,
   "id": "66bb8fc6",
   "metadata": {},
   "outputs": [
    {
     "name": "stdout",
     "output_type": "stream",
     "text": [
      "[10 20 30]\n"
     ]
    }
   ],
   "source": [
    "# slicing with 1- D array\n",
    "import numpy as np\n",
    "i = np.array([10, 20, 30, 40, 50, 60, 70, 80])\n",
    "print(i[0:3])"
   ]
  },
  {
   "cell_type": "code",
   "execution_count": 2,
   "id": "85e8c0e1",
   "metadata": {},
   "outputs": [
    {
     "name": "stdout",
     "output_type": "stream",
     "text": [
      "[40 50 60]\n"
     ]
    }
   ],
   "source": [
    "import numpy as np\n",
    "i = np.array([10, 20, 30, 40, 50, 60, 70, 80])\n",
    "print(i[3:6])"
   ]
  },
  {
   "cell_type": "code",
   "execution_count": 3,
   "id": "f8a86014",
   "metadata": {},
   "outputs": [
    {
     "name": "stdout",
     "output_type": "stream",
     "text": [
      "[30 40 50 60 70 80]\n"
     ]
    }
   ],
   "source": [
    "import numpy as np\n",
    "i = np.array([10, 20, 30, 40, 50, 60, 70, 80])\n",
    "print(i[2:])"
   ]
  },
  {
   "cell_type": "code",
   "execution_count": 4,
   "id": "01a82366",
   "metadata": {},
   "outputs": [
    {
     "name": "stdout",
     "output_type": "stream",
     "text": [
      "[10 20 30 40 50 60]\n"
     ]
    }
   ],
   "source": [
    "import numpy as np\n",
    "i = np.array([10, 20, 30, 40, 50, 60, 70, 80])\n",
    "print(i[ : 6])"
   ]
  },
  {
   "cell_type": "code",
   "execution_count": 5,
   "id": "41f248d4",
   "metadata": {},
   "outputs": [
    {
     "name": "stdout",
     "output_type": "stream",
     "text": [
      "[40 50 60]\n"
     ]
    }
   ],
   "source": [
    "import numpy as np\n",
    "\n",
    "i = np.array([10, 20, 30, 40, 50, 60, 70, 80])\n",
    "\n",
    "print(i[-5 :-2])"
   ]
  },
  {
   "cell_type": "code",
   "execution_count": 6,
   "id": "f82da293",
   "metadata": {},
   "outputs": [
    {
     "name": "stdout",
     "output_type": "stream",
     "text": [
      "[60 70]\n"
     ]
    }
   ],
   "source": [
    "import numpy as np\n",
    "i = np.array([10, 20, 30, 40, 50, 60, 70, 80])\n",
    "print(i[-3 :-1])"
   ]
  },
  {
   "cell_type": "code",
   "execution_count": 7,
   "id": "8ffce7fb",
   "metadata": {},
   "outputs": [
    {
     "name": "stdout",
     "output_type": "stream",
     "text": [
      "[30 40 50]\n"
     ]
    }
   ],
   "source": [
    "i = np.array([10, 20, 30, 40, 50, 60, 70, 80])\n",
    "print(i[2 :-3])"
   ]
  },
  {
   "cell_type": "code",
   "execution_count": 8,
   "id": "244626df",
   "metadata": {},
   "outputs": [
    {
     "name": "stdout",
     "output_type": "stream",
     "text": [
      "[10 30]\n"
     ]
    }
   ],
   "source": [
    "import numpy as np\n",
    "i = np.array([10, 20, 30, 40, 50, 60, 70, 80])\n",
    "print(i[0:4:2])"
   ]
  },
  {
   "cell_type": "code",
   "execution_count": 9,
   "id": "ed7d92ae",
   "metadata": {},
   "outputs": [
    {
     "name": "stdout",
     "output_type": "stream",
     "text": [
      "[10 40 70]\n"
     ]
    }
   ],
   "source": [
    "import numpy as np\n",
    "i = np.array([10, 20, 30, 40, 50, 60, 70, 80])\n",
    "print(i[0:7:3])"
   ]
  },
  {
   "cell_type": "code",
   "execution_count": 10,
   "id": "e385d7f7",
   "metadata": {},
   "outputs": [
    {
     "name": "stdout",
     "output_type": "stream",
     "text": [
      "[10 20 30 40 50 60 70 80]\n"
     ]
    }
   ],
   "source": [
    "import numpy as np\n",
    "i = np.array([10, 20, 30, 40, 50, 60, 70, 80])\n",
    "print(i[::])"
   ]
  },
  {
   "cell_type": "code",
   "execution_count": 11,
   "id": "d608574b",
   "metadata": {},
   "outputs": [
    {
     "name": "stdout",
     "output_type": "stream",
     "text": [
      "[10 30 50 70]\n"
     ]
    }
   ],
   "source": [
    "import numpy as np\n",
    "i = np.array([10, 20, 30, 40, 50, 60, 70, 80])\n",
    "print(i[ : : 2 ])"
   ]
  },
  {
   "cell_type": "code",
   "execution_count": 12,
   "id": "e64de502",
   "metadata": {},
   "outputs": [
    {
     "name": "stdout",
     "output_type": "stream",
     "text": [
      "[60 70 80]\n"
     ]
    }
   ],
   "source": [
    "#slicing with 2-D\n",
    "i = np.array([\n",
    "[10, 20, 30, 40, 50], \n",
    "[60, 70, 80, 90, 100] \n",
    "])\n",
    "\n",
    "print(i[1, 0:3])"
   ]
  },
  {
   "cell_type": "code",
   "execution_count": 13,
   "id": "48c799e5",
   "metadata": {},
   "outputs": [
    {
     "name": "stdout",
     "output_type": "stream",
     "text": [
      "[20 30 40]\n"
     ]
    }
   ],
   "source": [
    "i = np.array([\n",
    "[10, 20, 30, 40, 50], \n",
    "[60, 70, 80, 90, 100] \n",
    "])\n",
    "print(i[0, 1:4])"
   ]
  },
  {
   "cell_type": "code",
   "execution_count": 14,
   "id": "af796792",
   "metadata": {},
   "outputs": [
    {
     "name": "stdout",
     "output_type": "stream",
     "text": [
      "[33 44]\n"
     ]
    }
   ],
   "source": [
    "i = np.array([\n",
    "[10, 20, 30, 40, 50], \n",
    "[60, 70, 80, 90, 100], \n",
    "[11, 22, 33, 44, 55] \n",
    "])\n",
    "print(i[2, 2:4])"
   ]
  },
  {
   "cell_type": "code",
   "execution_count": 15,
   "id": "f32dbe7a",
   "metadata": {},
   "outputs": [
    {
     "name": "stdout",
     "output_type": "stream",
     "text": [
      "[20 70]\n"
     ]
    }
   ],
   "source": [
    "i = np.array([\n",
    "[10, 20, 30, 40, 50], \n",
    "[60, 70, 80, 90, 100], \n",
    "[11, 22, 33, 44, 55] \n",
    "])\n",
    "print(i[0:2, 1])"
   ]
  },
  {
   "cell_type": "code",
   "execution_count": 16,
   "id": "0f762285",
   "metadata": {},
   "outputs": [
    {
     "name": "stdout",
     "output_type": "stream",
     "text": [
      "[30 80 33]\n"
     ]
    }
   ],
   "source": [
    "i = np.array([\n",
    "[10, 20, 30, 40, 50], \n",
    "[60, 70, 80, 90, 100],\n",
    "[11, 22, 33, 44, 55], \n",
    "[1, 2, 3, 4, 5] \n",
    "])\n",
    "\n",
    "print(i[0:3, 2])"
   ]
  },
  {
   "cell_type": "code",
   "execution_count": 17,
   "id": "a1c682b0",
   "metadata": {},
   "outputs": [
    {
     "name": "stdout",
     "output_type": "stream",
     "text": [
      "[[10 20]\n",
      " [60 70]\n",
      " [11 22]\n",
      " [ 1  2]]\n"
     ]
    }
   ],
   "source": [
    "i = np.array([\n",
    "[10, 20, 30, 40, 50], # 0 - 0 1 2 3 4\n",
    "[60, 70, 80, 90, 100], # 1 - 0 1 2 3 4\n",
    "[11, 22, 33, 44, 55], # 2 - 0 1 2 3 4\n",
    "[1, 2, 3, 4, 5] # 2 - 0 1 2 3 4\n",
    "])\n",
    "print(i[0:4, 0:2])"
   ]
  },
  {
   "cell_type": "code",
   "execution_count": null,
   "id": "3cf3f5c1",
   "metadata": {},
   "outputs": [],
   "source": []
  }
 ],
 "metadata": {
  "kernelspec": {
   "display_name": "Python 3",
   "language": "python",
   "name": "python3"
  },
  "language_info": {
   "codemirror_mode": {
    "name": "ipython",
    "version": 3
   },
   "file_extension": ".py",
   "mimetype": "text/x-python",
   "name": "python",
   "nbconvert_exporter": "python",
   "pygments_lexer": "ipython3",
   "version": "3.8.8"
  }
 },
 "nbformat": 4,
 "nbformat_minor": 5
}
